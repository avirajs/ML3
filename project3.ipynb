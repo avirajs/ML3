{
 "cells": [
  {
   "cell_type": "markdown",
   "metadata": {},
   "source": [
    "# Project 3: Logistic Regression"
   ]
  },
  {
   "cell_type": "markdown",
   "metadata": {},
   "source": [
    "##  Preparation and Overview (30 points total)"
   ]
  },
  {
   "cell_type": "markdown",
   "metadata": {},
   "source": [
    "### [20 points] Explain the task and what business-case or use-case it is designed to solve (or designed to investigate). "
   ]
  },
  {
   "cell_type": "markdown",
   "metadata": {},
   "source": [
    "Detail exactly what the classification task is and what parties would be interested in the results. For example, would the model be deployed or use mostly for offline analysis? "
   ]
  },
  {
   "cell_type": "markdown",
   "metadata": {},
   "source": [
    "### [5 points] (mostly the same processes as from previous labs) Define and prepare your class variables. "
   ]
  },
  {
   "cell_type": "markdown",
   "metadata": {},
   "source": [
    "Use proper variable representations (int, float, one-hot, etc.). Use pre-processing methods (as needed) for dimensionality reduction, scaling, etc. Remove variables that are not needed/useful for the analysis. Describe the final dataset that is used for classification/regression (include a description of any newly formed variables you created)."
   ]
  },
  {
   "cell_type": "code",
   "execution_count": null,
   "metadata": {},
   "outputs": [
    {
     "name": "stdout",
     "output_type": "stream",
     "text": [
      "<class 'pandas.core.frame.DataFrame'>\n",
      "RangeIndex: 16293 entries, 0 to 16292\n",
      "Columns: 161 entries, Fishery to T150\n",
      "dtypes: int64(156), object(5)\n",
      "memory usage: 19.7+ MB\n",
      "None\n",
      "<class 'pandas.core.frame.DataFrame'>\n",
      "RangeIndex: 16293 entries, 0 to 16292\n",
      "Columns: 103 entries, Fishery to T102\n",
      "dtypes: int64(98), object(5)\n",
      "memory usage: 12.5+ MB\n",
      "None\n",
      "              Year       Quarter  FirstClassLow  SizeInterval           tno  \\\n",
      "count  16293.00000  16293.000000        16293.0       16293.0  1.629300e+04   \n",
      "mean    1991.47726      2.491684           10.0           1.0  2.403976e+05   \n",
      "std       17.74757      1.120423            0.0           0.0  8.331242e+05   \n",
      "min     1950.00000      1.000000           10.0           1.0  0.000000e+00   \n",
      "25%     1980.00000      1.000000           10.0           1.0  1.890000e+02   \n",
      "50%     1995.00000      2.000000           10.0           1.0  3.613000e+03   \n",
      "75%     2006.00000      3.000000           10.0           1.0  8.601000e+04   \n",
      "max     2016.00000      4.000000           10.0           1.0  1.429153e+07   \n",
      "\n",
      "                tmt          T001          T005          T006          T007  \\\n",
      "count  16293.000000  16293.000000  16293.000000  16293.000000  16293.000000   \n",
      "mean     797.205855      0.222918      0.117965     16.064506     32.371202   \n",
      "std     2712.178035      4.304902      9.134438    649.769802   1299.920293   \n",
      "min        0.000000      0.000000      0.000000      0.000000      0.000000   \n",
      "25%        1.000000      0.000000      0.000000      0.000000      0.000000   \n",
      "50%       16.000000      0.000000      0.000000      0.000000      0.000000   \n",
      "75%      304.000000      0.000000      0.000000      0.000000      0.000000   \n",
      "max    46611.000000    440.000000   1090.000000  35808.000000  71616.000000   \n",
      "\n",
      "           ...               T087          T088          T089          T090  \\\n",
      "count      ...       16293.000000  16293.000000  16293.000000  16293.000000   \n",
      "mean       ...           0.624685      0.330694      0.069600      0.089486   \n",
      "std        ...          24.506512     12.088166      3.309558      6.531006   \n",
      "min        ...           0.000000      0.000000      0.000000      0.000000   \n",
      "25%        ...           0.000000      0.000000      0.000000      0.000000   \n",
      "50%        ...           0.000000      0.000000      0.000000      0.000000   \n",
      "75%        ...           0.000000      0.000000      0.000000      0.000000   \n",
      "max        ...        1818.000000   1024.000000    357.000000    672.000000   \n",
      "\n",
      "               T091          T092          T097          T098          T101  \\\n",
      "count  16293.000000  16293.000000  16293.000000  16293.000000  16293.000000   \n",
      "mean      24.301847     24.301847      4.804149      4.804149      9.555576   \n",
      "std      242.199790    242.199790     49.299886     49.299886     98.588344   \n",
      "min        0.000000      0.000000      0.000000      0.000000      0.000000   \n",
      "25%        0.000000      0.000000      0.000000      0.000000      0.000000   \n",
      "50%        0.000000      0.000000      0.000000      0.000000      0.000000   \n",
      "75%        0.000000      0.000000      0.000000      0.000000      0.000000   \n",
      "max     7454.000000   7454.000000   1589.000000   1589.000000   3178.000000   \n",
      "\n",
      "               T102  \n",
      "count  16293.000000  \n",
      "mean       9.555576  \n",
      "std       98.588344  \n",
      "min        0.000000  \n",
      "25%        0.000000  \n",
      "50%        0.000000  \n",
      "75%        0.000000  \n",
      "max     3178.000000  \n",
      "\n",
      "[8 rows x 98 columns]\n",
      "Fishery          object\n",
      "Fleet            object\n",
      "Gear             object\n",
      "Year              int64\n",
      "Quarter           int64\n",
      "IOTC_Area        object\n",
      "FirstClassLow     int64\n",
      "SizeInterval      int64\n",
      "TimeStamp        object\n",
      "tno               int64\n",
      "tmt               int64\n",
      "T001              int64\n",
      "T005              int64\n",
      "T006              int64\n",
      "T007              int64\n",
      "T008              int64\n",
      "T009              int64\n",
      "T011              int64\n",
      "T012              int64\n",
      "T013              int64\n",
      "T014              int64\n",
      "T015              int64\n",
      "T016              int64\n",
      "T017              int64\n",
      "T018              int64\n",
      "T019              int64\n",
      "T020              int64\n",
      "T021              int64\n",
      "T022              int64\n",
      "T023              int64\n",
      "                  ...  \n",
      "T067              int64\n",
      "T068              int64\n",
      "T069              int64\n",
      "T070              int64\n",
      "T071              int64\n",
      "T072              int64\n",
      "T073              int64\n",
      "T074              int64\n",
      "T075              int64\n",
      "T076              int64\n",
      "T077              int64\n",
      "T078              int64\n",
      "T079              int64\n",
      "T080              int64\n",
      "T081              int64\n",
      "T082              int64\n",
      "T083              int64\n",
      "T084              int64\n",
      "T085              int64\n",
      "T086              int64\n",
      "T087              int64\n",
      "T088              int64\n",
      "T089              int64\n",
      "T090              int64\n",
      "T091              int64\n",
      "T092              int64\n",
      "T097              int64\n",
      "T098              int64\n",
      "T101              int64\n",
      "T102              int64\n",
      "Length: 103, dtype: object\n",
      "Index(['Fishery', 'Fleet', 'Gear', 'Year', 'Quarter', 'IOTC_Area',\n",
      "       'FirstClassLow', 'SizeInterval', 'TimeStamp', 'tno',\n",
      "       ...\n",
      "       'T087', 'T088', 'T089', 'T090', 'T091', 'T092', 'T097', 'T098', 'T101',\n",
      "       'T102'],\n",
      "      dtype='object', length=103)\n",
      "Year             1995.0\n",
      "Quarter             2.0\n",
      "FirstClassLow      10.0\n",
      "SizeInterval        1.0\n",
      "tno              3613.0\n",
      "tmt                16.0\n",
      "T001                0.0\n",
      "T005                0.0\n",
      "T006                0.0\n",
      "T007                0.0\n",
      "T008                0.0\n",
      "T009                0.0\n",
      "T011                0.0\n",
      "T012                0.0\n",
      "T013                0.0\n",
      "T014                0.0\n",
      "T015                0.0\n",
      "T016                0.0\n",
      "T017                0.0\n",
      "T018                0.0\n",
      "T019                0.0\n",
      "T020                0.0\n",
      "T021                0.0\n",
      "T022                0.0\n",
      "T023                0.0\n",
      "T024                0.0\n",
      "T025                0.0\n",
      "T026                1.0\n",
      "T027                1.0\n",
      "T028                2.0\n",
      "                  ...  \n",
      "T067                0.0\n",
      "T068                0.0\n",
      "T069                0.0\n",
      "T070                0.0\n",
      "T071                0.0\n",
      "T072                0.0\n",
      "T073                0.0\n",
      "T074                0.0\n",
      "T075                0.0\n",
      "T076                0.0\n",
      "T077                0.0\n",
      "T078                0.0\n",
      "T079                0.0\n",
      "T080                0.0\n",
      "T081                0.0\n",
      "T082                0.0\n",
      "T083                0.0\n",
      "T084                0.0\n",
      "T085                0.0\n",
      "T086                0.0\n",
      "T087                0.0\n",
      "T088                0.0\n",
      "T089                0.0\n",
      "T090                0.0\n",
      "T091                0.0\n",
      "T092                0.0\n",
      "T097                0.0\n",
      "T098                0.0\n",
      "T101                0.0\n",
      "T102                0.0\n",
      "Length: 98, dtype: float64\n",
      "46611\n",
      "14291528\n",
      "           Year  FirstClassLow  SizeInterval     tno   tmt  T001  T005  T006  \\\n",
      "Quarter                                                                        \n",
      "1        1995.0           10.0           1.0  4193.0  17.0   0.0   0.0   0.0   \n",
      "2        1995.0           10.0           1.0  3724.0  17.0   0.0   0.0   0.0   \n",
      "3        1995.0           10.0           1.0  2975.0  13.0   0.0   0.0   0.0   \n",
      "4        1995.0           10.0           1.0  3724.0  17.0   0.0   0.0   0.0   \n",
      "\n",
      "         T007  T008  ...   T087  T088  T089  T090  T091  T092  T097  T098  \\\n",
      "Quarter              ...                                                    \n",
      "1         0.0   0.0  ...    0.0   0.0   0.0   0.0   0.0   0.0   0.0   0.0   \n",
      "2         0.0   0.0  ...    0.0   0.0   0.0   0.0   0.0   0.0   0.0   0.0   \n",
      "3         0.0   0.0  ...    0.0   0.0   0.0   0.0   0.0   0.0   0.0   0.0   \n",
      "4         0.0   0.0  ...    0.0   0.0   0.0   0.0   0.0   0.0   0.0   0.0   \n",
      "\n",
      "         T101  T102  \n",
      "Quarter              \n",
      "1         0.0   0.0  \n",
      "2         0.0   0.0  \n",
      "3         0.0   0.0  \n",
      "4         0.0   0.0  \n",
      "\n",
      "[4 rows x 97 columns]\n",
      "Fishery            Baitboat\n",
      "Fleet                   MDV\n",
      "Gear                     BB\n",
      "Year                   2006\n",
      "Quarter                   2\n",
      "IOTC_Area        IO_Western\n",
      "FirstClassLow            10\n",
      "SizeInterval              1\n",
      "TimeStamp         9/22/2017\n",
      "tno                 9825157\n",
      "tmt                   46611\n",
      "T001                      0\n",
      "T005                      0\n",
      "T006                      0\n",
      "T007                      0\n",
      "T008                      0\n",
      "T009                      0\n",
      "T011                      0\n",
      "T012                      0\n",
      "T013                      0\n",
      "T014                      0\n",
      "T015                      0\n",
      "T016                      0\n",
      "T017                   3076\n",
      "T018                   3076\n",
      "T019                   6153\n",
      "T020                   3076\n",
      "T021                   6768\n",
      "T022                   9844\n",
      "T023                  12921\n",
      "                    ...    \n",
      "T067                   4922\n",
      "T068                    615\n",
      "T069                   1231\n",
      "T070                   1231\n",
      "T071                      0\n",
      "T072                      0\n",
      "T073                      0\n",
      "T074                      0\n",
      "T075                      0\n",
      "T076                      0\n",
      "T077                      0\n",
      "T078                      0\n",
      "T079                      0\n",
      "T080                      0\n",
      "T081                      0\n",
      "T082                      0\n",
      "T083                      0\n",
      "T084                      0\n",
      "T085                      0\n",
      "T086                      0\n",
      "T087                      0\n",
      "T088                      0\n",
      "T089                      0\n",
      "T090                      0\n",
      "T091                      0\n",
      "T092                      0\n",
      "T097                      0\n",
      "T098                      0\n",
      "T101                      0\n",
      "T102                      0\n",
      "Name: 919, Length: 103, dtype: object\n"
     ]
    }
   ],
   "source": [
    "import pandas as pd\n",
    "\n",
    "#thousands option to turn string comma into numbers\n",
    "df = pd.read_csv('FishData.csv', thousands=',')# read in the csv file\n",
    "\n",
    "df.head()\n",
    "\n",
    "print(df.info())\n",
    "\n",
    "\n",
    "#removes weight class features where fish weight class is zero; 60 were not used\n",
    "df = df.loc[:, (df != 0).any(axis=0)]\n",
    "print(df.info())\n",
    "print(df.describe())\n",
    "\n",
    "#types seem okay\n",
    "print (df.dtypes)\n",
    "print(df.columns)\n",
    "\n",
    "print(df.median())\n",
    "print(df.tmt.max())\n",
    "print(df.tno.max())\n",
    "\n",
    "print(df.groupby(by='Quarter').median())\n",
    "#biggest fish haul\n",
    "print(df.iloc[df.tmt.idxmax()])\n",
    "\n",
    "from matplotlib import pyplot as plt\n",
    "import seaborn as sns\n",
    "\n",
    "sns.set()\n",
    "sns.pairplot(df, hue=\"target\", size=2)\n"
   ]
  },
  {
   "cell_type": "markdown",
   "metadata": {},
   "source": [
    "#### [5 points] Divide you data into training and testing data using an 80% training and 20% testing split. "
   ]
  },
  {
   "cell_type": "markdown",
   "metadata": {},
   "source": [
    "Use the cross validation modules that are part of scikit-learn. Argue \"for\" or \"against\" splitting your data using an 80/20 split. That is, why is the 80/20 split appropriate (or not) for your dataset?  "
   ]
  },
  {
   "cell_type": "markdown",
   "metadata": {},
   "source": [
    "### Modeling (50 points total)"
   ]
  },
  {
   "cell_type": "markdown",
   "metadata": {},
   "source": [
    "#### The implementation of logistic regression must be written only from the examples given to you by the instructor. No credit will be assigned to teams that copy implementations from another source, regardless of if the code is properly cited. "
   ]
  },
  {
   "cell_type": "markdown",
   "metadata": {},
   "source": [
    "#### [20 points] Create a custom, one-versus-all logistic regression classifier using numpy and scipy to optimize. "
   ]
  },
  {
   "cell_type": "markdown",
   "metadata": {},
   "source": [
    "Use object oriented conventions identical to scikit-learn. You should start with the template developed by the instructor in the course. You should add the following functionality to the logistic regression classifier:Ability to choose optimization technique when class is instantiated: either steepest descent, stochastic gradient descent, or Newton's method.  Update the gradient calculation to include a customizable regularization term (either using no regularization, L1 regularization, L2 regularization, or both L1 and L2 regularization). Associate a cost with the regularization term, \"C\", that can be adjusted when the class is instantiated.  "
   ]
  },
  {
   "cell_type": "markdown",
   "metadata": {},
   "source": [
    "#### [15 points] Train your classifier to achieve good generalization performance."
   ]
  },
  {
   "cell_type": "markdown",
   "metadata": {},
   "source": [
    " That is, adjust the optimization technique and the value of the regularization term \"C\" to achieve the best performance on your test set. Visualize the performance of the classifier versus the parameters you investigated. Is your method of selecting parameters justified? That is, do you think there is any \"data snooping\" involved with this method of selecting parameters?"
   ]
  },
  {
   "cell_type": "markdown",
   "metadata": {},
   "source": [
    "#### [15 points] Compare the performance of your \"best\" logistic regression optimization procedure to the procedure used in scikit-learn. Visualize the performance differences in terms of training time and classification performance. Discuss the results. \n",
    "   "
   ]
  },
  {
   "cell_type": "markdown",
   "metadata": {},
   "source": [
    "#### Deployment (10 points total)\n",
    "        "
   ]
  },
  {
   "cell_type": "markdown",
   "metadata": {},
   "source": [
    "Which implementation of logistic regression would you advise be used in a deployed machine learning model, your implementation or scikit-learn (or other third party)? Why?"
   ]
  },
  {
   "cell_type": "markdown",
   "metadata": {},
   "source": [
    "#### Exceptional Work (10 points total)\n",
    "        "
   ]
  },
  {
   "cell_type": "markdown",
   "metadata": {},
   "source": [
    "You have free reign to provide additional analyses. One idea: Update the code to use either \"one-versus-all\" or \"one-versus-one\" extensions of binary to multi-class classification. \n",
    "        One idea (required for 7000 level students): Implement an optimization technique for logistic regression using mean square error as your objective function (instead of binary entropy). Your solution should be able to solve the binary logistic regression problem in one gradient update step. "
   ]
  },
  {
   "cell_type": "code",
   "execution_count": null,
   "metadata": {},
   "outputs": [],
   "source": []
  }
 ],
 "metadata": {
  "kernelspec": {
   "display_name": "Python 3",
   "language": "python",
   "name": "python3"
  },
  "language_info": {
   "codemirror_mode": {
    "name": "ipython",
    "version": 3
   },
   "file_extension": ".py",
   "mimetype": "text/x-python",
   "name": "python",
   "nbconvert_exporter": "python",
   "pygments_lexer": "ipython3",
   "version": "3.6.5"
  }
 },
 "nbformat": 4,
 "nbformat_minor": 2
}
